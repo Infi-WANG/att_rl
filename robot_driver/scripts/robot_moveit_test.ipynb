{
 "cells": [
  {
   "cell_type": "code",
   "execution_count": 3,
   "metadata": {},
   "outputs": [],
   "source": [
    "import rospy, sys\n",
    "import moveit_commander\n",
    "from moveit_commander import MoveGroupCommander\n",
    "from copy import deepcopy"
   ]
  },
  {
   "cell_type": "code",
   "execution_count": 4,
   "metadata": {},
   "outputs": [],
   "source": [
    "rospy.init_node('URMove')"
   ]
  },
  {
   "cell_type": "code",
   "execution_count": 5,
   "metadata": {},
   "outputs": [
    {
     "name": "stdout",
     "output_type": "stream",
     "text": [
      "header: \n",
      "  seq: 0\n",
      "  stamp: \n",
      "    secs: 5259\n",
      "    nsecs: 776000000\n",
      "  frame_id: \"world\"\n",
      "pose: \n",
      "  position: \n",
      "    x: 0.724727743664\n",
      "    y: -0.0609540192976\n",
      "    z: 0.286931191486\n",
      "  orientation: \n",
      "    x: -0.0384266365912\n",
      "    y: -0.998539953184\n",
      "    z: 0.00133859318891\n",
      "    w: 0.0379415822569\n",
      "[3.2409282923301985, -2.1936409971591946, -1.2426770367138236, -1.3516222139410798, -4.7046227148097115, 1.7468832411815534, -0.0001171053032384961]\n"
     ]
    }
   ],
   "source": [
    "arm = MoveGroupCommander('manipulator')\n",
    "arm.set_pose_reference_frame('base_link')\n",
    "end_effector_link = \"peg_link\"\n",
    "arm.allow_replanning(True)\n",
    "arm.set_goal_position_tolerance(0.001)\n",
    "arm.set_goal_orientation_tolerance(0.001)\n",
    "arm.set_end_effector_link(end_effector_link)\n",
    "print(arm.get_current_pose('peg_link'))\n",
    "print(arm.get_current_joint_values())"
   ]
  },
  {
   "cell_type": "code",
   "execution_count": 7,
   "metadata": {},
   "outputs": [
    {
     "name": "stdout",
     "output_type": "stream",
     "text": [
      "position: \n",
      "  x: 0.724727743664\n",
      "  y: -0.0609540192976\n",
      "  z: 0.286931191486\n",
      "orientation: \n",
      "  x: -0.0384266365912\n",
      "  y: -0.998539953184\n",
      "  z: 0.00133859318891\n",
      "  w: 0.0379415822569\n"
     ]
    }
   ],
   "source": [
    "start_pose = arm.get_current_pose(end_effector_link).pose\n",
    "print(start_pose)"
   ]
  },
  {
   "cell_type": "code",
   "execution_count": 11,
   "metadata": {},
   "outputs": [
    {
     "name": "stdout",
     "output_type": "stream",
     "text": [
      "[INFO] [1720582947.539741, 5536.941000]: Path computed successfully. Moving the arm.\n",
      "[INFO] [1720582948.696524, 5538.095000]: Path execution complete.\n"
     ]
    },
    {
     "data": {
      "text/plain": [
       "True"
      ]
     },
     "execution_count": 11,
     "metadata": {},
     "output_type": "execute_result"
    }
   ],
   "source": [
    "\n",
    "def plan_execute(arm, waypoints): \n",
    "    fraction = 0.0   #路径规划覆盖率\n",
    "    maxtries = 100   #最大尝试规划次数\n",
    "    attempts = 0     #已经尝试规划次数   \n",
    "    # 尝试规划一条笛卡尔空间下的路径，依次通过所有路点\n",
    "    while fraction < 1.0 and attempts < maxtries:\n",
    "        (plan, fraction) = arm.compute_cartesian_path (\n",
    "                                waypoints,   # waypoint poses，路点列表\n",
    "                                0.01,        # eef_step，终端步进值\n",
    "                                0.0,         # jump_threshold，跳跃阈值\n",
    "                                True)        # avoid_collisions，避障规划  \n",
    "        attempts += 1    \n",
    "        if attempts % 10 == 0:\n",
    "            rospy.loginfo(\"Still trying after \" + str(attempts) + \" attempts...\")\n",
    "                        \n",
    "    if fraction == 1.0:\n",
    "        rospy.loginfo(\"Path computed successfully. Moving the arm.\")\n",
    "        arm.execute(plan)\n",
    "        rospy.loginfo(\"Path execution complete.\")\n",
    "        return True\n",
    "    else:\n",
    "        rospy.loginfo(\"Path planning failed with only \" + str(fraction) + \" success after \" + str(maxtries) + \" attempts.\")\n",
    "        return False \n",
    "\n",
    "target_pose = deepcopy(start_pose)\n",
    "target_pose.position.x = 0.8\n",
    "target_pose.position.y = 0\n",
    "target_pose.position.z = 0.3\n",
    "target_pose.orientation.x = 0\n",
    "target_pose.orientation.y = -1\n",
    "target_pose.orientation.z = 0\n",
    "target_pose.orientation.w = 0\n",
    "waypoints = []\n",
    "\n",
    "waypoints.append(target_pose)\n",
    "plan_execute(arm, waypoints)\n",
    "\n"
   ]
  },
  {
   "cell_type": "code",
   "execution_count": 14,
   "metadata": {},
   "outputs": [
    {
     "name": "stdout",
     "output_type": "stream",
     "text": [
      "[INFO] [1720583051.494116, 5640.755000]: Path computed successfully. Moving the arm.\n",
      "[INFO] [1720583052.157502, 5641.416000]: Path execution complete.\n"
     ]
    },
    {
     "data": {
      "text/plain": [
       "True"
      ]
     },
     "execution_count": 14,
     "metadata": {},
     "output_type": "execute_result"
    }
   ],
   "source": [
    "target_pose.position.z -= 0.05\n",
    "waypoints = []\n",
    "waypoints.append(target_pose)\n",
    "plan_execute(arm, waypoints)"
   ]
  },
  {
   "cell_type": "code",
   "execution_count": 15,
   "metadata": {},
   "outputs": [
    {
     "name": "stdout",
     "output_type": "stream",
     "text": [
      "[INFO] [1720583079.866480, 5668.859000]: Path computed successfully. Moving the arm.\n",
      "[INFO] [1720583080.237534, 5669.216000]: Path execution complete.\n"
     ]
    },
    {
     "data": {
      "text/plain": [
       "True"
      ]
     },
     "execution_count": 15,
     "metadata": {},
     "output_type": "execute_result"
    }
   ],
   "source": [
    "target_pose.position.x += 0.01\n",
    "waypoints = []\n",
    "waypoints.append(target_pose)\n",
    "plan_execute(arm, waypoints)"
   ]
  },
  {
   "cell_type": "code",
   "execution_count": 17,
   "metadata": {},
   "outputs": [
    {
     "data": {
      "text/plain": [
       "geometry_msgs.msg._Pose.Pose"
      ]
     },
     "execution_count": 17,
     "metadata": {},
     "output_type": "execute_result"
    }
   ],
   "source": [
    "type(target_pose)"
   ]
  }
 ],
 "metadata": {
  "kernelspec": {
   "display_name": "Python 3",
   "language": "python",
   "name": "python3"
  },
  "language_info": {
   "codemirror_mode": {
    "name": "ipython",
    "version": 2
   },
   "file_extension": ".py",
   "mimetype": "text/x-python",
   "name": "python",
   "nbconvert_exporter": "python",
   "pygments_lexer": "ipython2",
   "version": "2.7.17"
  }
 },
 "nbformat": 4,
 "nbformat_minor": 2
}
